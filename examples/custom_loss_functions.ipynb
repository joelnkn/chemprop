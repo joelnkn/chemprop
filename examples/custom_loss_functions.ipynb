{
 "cells": [
  {
   "cell_type": "markdown",
   "metadata": {},
   "source": [
    "# Custom Loss Functions and Predictors\n"
   ]
  },
  {
   "cell_type": "markdown",
   "metadata": {},
   "source": [
    "# Loading packages"
   ]
  },
  {
   "cell_type": "code",
   "execution_count": 2,
   "metadata": {},
   "outputs": [],
   "source": [
    "import torch\n",
    "from torch import Tensor\n",
    "from torch.nn import functional as F\n",
    "\n",
    "import pandas as pd\n",
    "from pathlib import Path\n",
    "\n",
    "from chemprop.nn.loss import LossFunction\n",
    "from chemprop.nn.metrics import Metric\n",
    "from chemprop import data, featurizers, models, nn\n",
    "\n",
    "from chemprop.nn.predictors import RegressionFFN"
   ]
  },
  {
   "cell_type": "markdown",
   "metadata": {},
   "source": []
  },
  {
   "cell_type": "code",
   "execution_count": 3,
   "metadata": {},
   "outputs": [
    {
     "name": "stdout",
     "output_type": "stream",
     "text": [
      "ClassRegistry {\n",
      "    'mse': <class 'chemprop.nn.loss.MSELoss'>,\n",
      "    'bounded-mse': <class 'chemprop.nn.loss.BoundedMSELoss'>,\n",
      "    'mve': <class 'chemprop.nn.loss.MVELoss'>,\n",
      "    'evidential': <class 'chemprop.nn.loss.EvidentialLoss'>,\n",
      "    'bce': <class 'chemprop.nn.loss.BCELoss'>,\n",
      "    'ce': <class 'chemprop.nn.loss.CrossEntropyLoss'>,\n",
      "    'binary-mcc': <class 'chemprop.nn.loss.BinaryMCCLoss'>,\n",
      "    'multiclass-mcc': <class 'chemprop.nn.loss.MulticlassMCCLoss'>,\n",
      "    'binary-dirichlet': <class 'chemprop.nn.loss.BinaryDirichletLoss'>,\n",
      "    'multiclass-dirichlet': <class 'chemprop.nn.loss.MulticlassDirichletLoss'>,\n",
      "    'sid': <class 'chemprop.nn.loss.SIDLoss'>,\n",
      "    'earthmovers': <class 'chemprop.nn.loss.WassersteinLoss'>,\n",
      "    'wasserstein': <class 'chemprop.nn.loss.WassersteinLoss'>\n",
      "}\n"
     ]
    }
   ],
   "source": [
    "print(nn.LossFunctionRegistry)"
   ]
  },
  {
   "cell_type": "code",
   "execution_count": null,
   "metadata": {},
   "outputs": [],
   "source": [
    "class MSLELoss(LossFunction):\n",
    "    def __init__(self, task_weights=None):\n",
    "        super().__init__(task_weights)\n",
    "\n",
    "    def _calc_unreduced_loss(self, preds, targets, mask, weights, lt_mask, gt_mask) -> Tensor:\n",
    "        return (torch.log(preds + 1) - torch.log(targets + 1)) ** 2"
   ]
  },
  {
   "cell_type": "code",
   "execution_count": null,
   "metadata": {},
   "outputs": [],
   "source": [
    "class HuberLoss(LossFunction):\n",
    "    def __init__(self, task_weights=None, delta: float = 1.0):\n",
    "        super().__init__(task_weights)\n",
    "        self.register_buffer(\"delta\", delta)\n",
    "\n",
    "    def _calc_unreduced_loss(self, preds : Tensor, targets : Tensor, *args):\n",
    "        return F.huber_loss(preds, targets, reduction=\"none\", delta=self.delta)"
   ]
  },
  {
   "cell_type": "code",
   "execution_count": null,
   "metadata": {},
   "outputs": [],
   "source": []
  }
 ],
 "metadata": {
  "kernelspec": {
   "display_name": "chv2",
   "language": "python",
   "name": "python3"
  },
  "language_info": {
   "codemirror_mode": {
    "name": "ipython",
    "version": 3
   },
   "file_extension": ".py",
   "mimetype": "text/x-python",
   "name": "python",
   "nbconvert_exporter": "python",
   "pygments_lexer": "ipython3",
   "version": "3.12.3"
  }
 },
 "nbformat": 4,
 "nbformat_minor": 2
}
